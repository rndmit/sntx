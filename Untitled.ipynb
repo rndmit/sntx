{
 "cells": [
  {
   "cell_type": "code",
   "execution_count": 1,
   "metadata": {},
   "outputs": [],
   "source": [
    "import requests, json, csv"
   ]
  },
  {
   "cell_type": "code",
   "execution_count": 8,
   "metadata": {},
   "outputs": [],
   "source": [
    "api = {\n",
    "    'gateway': 'https://manifesto-project.wzb.eu/tools/',\n",
    "    'key': '?api_key=5bc549b3a55fdfe3f9ed7747c437f3e0'\n",
    "}"
   ]
  },
  {
   "cell_type": "code",
   "execution_count": 9,
   "metadata": {},
   "outputs": [],
   "source": [
    "def api_request(api_method, *params):\n",
    "    parameters = ''\n",
    "    if params:\n",
    "        for i in params:\n",
    "            parameters += ('&' + i)\n",
    "    request_url = api['gateway'] + api_method + '.json' + api['key'] + parameters\n",
    "    print(request_url)\n",
    "    return json.loads(requests.get(request_url).text)"
   ]
  },
  {
   "cell_type": "code",
   "execution_count": 32,
   "metadata": {},
   "outputs": [
    {
     "name": "stdout",
     "output_type": "stream",
     "text": [
      "https://manifesto-project.wzb.eu/tools/api_list_core_versions?api_key=5bc549b3a55fdfe3f9ed7747c437f3e0&key=455&datg\n"
     ]
    },
    {
     "data": {
      "text/plain": [
       "{'datasets': [{'id': 'MPDS2012a',\n",
       "   'name': 'Manifesto Project Dataset (version 2012a)'},\n",
       "  {'id': 'MPDS2012b', 'name': 'Manifesto Project Dataset (version 2012b)'},\n",
       "  {'id': 'MPDS2013a', 'name': 'Manifesto Project Dataset (version 2013a)'},\n",
       "  {'id': 'MPDS2013b', 'name': 'Manifesto Project Dataset (version 2013b)'},\n",
       "  {'id': 'MPDS2014a', 'name': 'Manifesto Project Dataset (version 2014a)'},\n",
       "  {'id': 'MPDS2014b', 'name': 'Manifesto Project Dataset (version 2014b)'},\n",
       "  {'id': 'MPDS2015a', 'name': 'Manifesto Project Dataset (version 2015a)'},\n",
       "  {'id': 'MPDS2016a', 'name': 'Manifesto Project Dataset (version 2016a)'},\n",
       "  {'id': 'MPDS2016b', 'name': 'Manifesto Project Dataset (version 2016b)'},\n",
       "  {'id': 'MPDS2017a', 'name': 'Manifesto Project Dataset (version 2017a)'},\n",
       "  {'id': 'MPDS2017b', 'name': 'Manifesto Project Dataset (version 2017b)'}]}"
      ]
     },
     "execution_count": 32,
     "metadata": {},
     "output_type": "execute_result"
    }
   ],
   "source": [
    "api_request('api_list_core_versions')"
   ]
  },
  {
   "cell_type": "code",
   "execution_count": 31,
   "metadata": {},
   "outputs": [
    {
     "name": "stdout",
     "output_type": "stream",
     "text": [
      "https://manifesto-project.wzb.eu/tools/api_list_metadata_versions?api_key=5bc549b3a55fdfe3f9ed7747c437f3e0\n"
     ]
    },
    {
     "data": {
      "text/plain": [
       "{'versions': ['2015-1',\n",
       "  '20150603140744',\n",
       "  '20150603144655',\n",
       "  '2015-2',\n",
       "  '20150619183523',\n",
       "  '20150708095326',\n",
       "  '20150708102056',\n",
       "  '2015-3',\n",
       "  '20150716220651',\n",
       "  '20150727144348',\n",
       "  '20150914183516',\n",
       "  '2015-4',\n",
       "  '2015-5',\n",
       "  '20151207125518',\n",
       "  '20160205170254',\n",
       "  '20160205171117',\n",
       "  '20160205184152',\n",
       "  '2016-1',\n",
       "  '2016-2',\n",
       "  '20160520191208',\n",
       "  '20160524112135',\n",
       "  '2016-3',\n",
       "  '20160817112523',\n",
       "  '20160817115608',\n",
       "  '20160823133322',\n",
       "  '2016-4',\n",
       "  '2016-5',\n",
       "  '20161128161012',\n",
       "  '2016-6',\n",
       "  '20170720161359',\n",
       "  '2017-1',\n",
       "  '20170815135004',\n",
       "  '20171211135550',\n",
       "  '2017-2']}"
      ]
     },
     "execution_count": 31,
     "metadata": {},
     "output_type": "execute_result"
    }
   ],
   "source": [
    "api_request('api_list_metadata_versions')"
   ]
  },
  {
   "cell_type": "code",
   "execution_count": 30,
   "metadata": {},
   "outputs": [
    {
     "name": "stdout",
     "output_type": "stream",
     "text": [
      "https://manifesto-project.wzb.eu/tools/api_texts_and_annotations?api_key=5bc549b3a55fdfe3f9ed7747c437f3e0&key=41320_2009\n"
     ]
    },
    {
     "data": {
      "text/plain": [
       "{'error': 'Missing required parameters'}"
      ]
     },
     "execution_count": 30,
     "metadata": {},
     "output_type": "execute_result"
    }
   ],
   "source": [
    "api_request('api_texts_and_annotations', 'key=41320_2009')"
   ]
  },
  {
   "cell_type": "code",
   "execution_count": null,
   "metadata": {},
   "outputs": [],
   "source": []
  }
 ],
 "metadata": {
  "kernelspec": {
   "display_name": "Python 3",
   "language": "python",
   "name": "python3"
  },
  "language_info": {
   "codemirror_mode": {
    "name": "ipython",
    "version": 3
   },
   "file_extension": ".py",
   "mimetype": "text/x-python",
   "name": "python",
   "nbconvert_exporter": "python",
   "pygments_lexer": "ipython3",
   "version": "3.6.4"
  }
 },
 "nbformat": 4,
 "nbformat_minor": 2
}

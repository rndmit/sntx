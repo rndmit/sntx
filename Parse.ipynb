{
 "cells": [
  {
   "cell_type": "code",
   "execution_count": 1,
   "metadata": {},
   "outputs": [],
   "source": [
    "import requests, json, csv"
   ]
  },
  {
   "cell_type": "code",
   "execution_count": 2,
   "metadata": {},
   "outputs": [],
   "source": [
    "#Словарь с данными для API\n",
    "api = {\n",
    "    'gateway': 'https://manifesto-project.wzb.eu/tools/',\n",
    "    'key': '?api_key=5bc549b3a55fdfe3f9ed7747c437f3e0'\n",
    "}"
   ]
  },
  {
   "cell_type": "code",
   "execution_count": 11,
   "metadata": {},
   "outputs": [],
   "source": [
    "\"\"\"\n",
    "    Обертка для обращений к API\n",
    "    Аргументы:\n",
    "        string : api_method – Название метода (https://manifestoproject.wzb.eu/information/documents/api)\n",
    "        *string : params – Параметры вызова\n",
    "\"\"\"\n",
    "def api_request(api_method, *params):\n",
    "    parameters = ''\n",
    "    if params:\n",
    "        for i in params:\n",
    "            parameters += ('&' + i)\n",
    "    request_url = api['gateway'] + api_method + '.json' + api['key'] + parameters\n",
    "    print(request_url)\n",
    "    return json.loads(requests.get(request_url).text)\n",
    "\n",
    "\"\"\"\n",
    "    Пишет CSV в папку datasheets\n",
    "    Аргументы:\n",
    "        list : data – Список данных для записи\n",
    "        string : name – Имя файла с расширением\n",
    "\"\"\"\n",
    "def write_csv(data, name):\n",
    "    path = 'datasheets/' + name\n",
    "    with open(path, \"w\", newline='') as csv_file:\n",
    "            writer = csv.writer(csv_file, delimiter=',')\n",
    "            for line in data:\n",
    "                writer.writerow(line)\n",
    "\n",
    "\"\"\"\n",
    "    Читает из CSV данные из выбранных колонок\n",
    "    Аргументы:\n",
    "        string : name – Имя файла с расширением\n",
    "        (Optional) bool : write_first_row – Записывать ли в список заголовки колонок\n",
    "        *string : headings – Названия колонок\n",
    "\"\"\"\n",
    "def csv_to_list(name, write_first_row=True, *headings):\n",
    "    with open(\"datasheets/\" + name) as file_obj:\n",
    "        reader = csv.DictReader(file_obj, delimiter=',')\n",
    "        result = []\n",
    "        if write_first_row:\n",
    "            first_row = []\n",
    "            for heading in headings:\n",
    "                first_row.append(heading)\n",
    "            result.append(first_row)\n",
    "        for line in reader:\n",
    "            parsed = []\n",
    "            for heading in headings:\n",
    "                parsed.append(line[heading])\n",
    "            result.append(parsed)\n",
    "        return result"
   ]
  },
  {
   "cell_type": "code",
   "execution_count": null,
   "metadata": {},
   "outputs": [],
   "source": [
    "api_request('api_get_core', 'key=MPDS2017b')"
   ]
  },
  {
   "cell_type": "code",
   "execution_count": null,
   "metadata": {},
   "outputs": [],
   "source": [
    "api_request('api_metadata', 'keys[]=51320_196410', 'version=2017-2')"
   ]
  },
  {
   "cell_type": "code",
   "execution_count": null,
   "metadata": {},
   "outputs": [],
   "source": [
    "api_request('api_metadata', 'keys[]=51320_197402', 'version=2017-2')"
   ]
  },
  {
   "cell_type": "code",
   "execution_count": null,
   "metadata": {},
   "outputs": [],
   "source": [
    "api_request('api_list_metadata_versions') "
   ]
  },
  {
   "cell_type": "code",
   "execution_count": null,
   "metadata": {},
   "outputs": [],
   "source": [
    "api_request('api_texts_and_annotations', 'keys[]=41320_2009', 'version=2017-2')"
   ]
  },
  {
   "cell_type": "code",
   "execution_count": null,
   "metadata": {},
   "outputs": [],
   "source": [
    "api_request('api_get_core_codebook', 'key=MPDS2017b')"
   ]
  },
  {
   "cell_type": "code",
   "execution_count": 12,
   "metadata": {},
   "outputs": [],
   "source": [
    "rslt = csv_to_list(\"core_codebook.csv\", \"domain_code\", \"domain_name\")"
   ]
  }
 ],
 "metadata": {
  "kernelspec": {
   "display_name": "Python 3",
   "language": "python",
   "name": "python3"
  },
  "language_info": {
   "codemirror_mode": {
    "name": "ipython",
    "version": 3
   },
   "file_extension": ".py",
   "mimetype": "text/x-python",
   "name": "python",
   "nbconvert_exporter": "python",
   "pygments_lexer": "ipython3",
   "version": "3.6.4"
  }
 },
 "nbformat": 4,
 "nbformat_minor": 2
}

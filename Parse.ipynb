{
 "cells": [
  {
   "cell_type": "code",
   "execution_count": 1,
   "metadata": {},
   "outputs": [],
   "source": [
    "import requests, json, csv"
   ]
  },
  {
   "cell_type": "code",
   "execution_count": 8,
   "metadata": {},
   "outputs": [],
   "source": [
    "api = {\n",
    "    'gateway': 'https://manifesto-project.wzb.eu/tools/',\n",
    "    'key': '?api_key=5bc549b3a55fdfe3f9ed7747c437f3e0'\n",
    "}"
   ]
  },
  {
   "cell_type": "code",
   "execution_count": 9,
   "metadata": {},
   "outputs": [],
   "source": [
    "def api_request(api_method, *params):\n",
    "    parameters = ''\n",
    "    if params:\n",
    "        for i in params:\n",
    "            parameters += ('&' + i)\n",
    "    request_url = api['gateway'] + api_method + '.json' + api['key'] + parameters\n",
    "    print(request_url)\n",
    "    return json.loads(requests.get(request_url).text)"
   ]
  },
  {
   "cell_type": "code",
   "execution_count": 34,
   "metadata": {
    "collapsed": true
   },
   "outputs": [],
   "source": [
    "def write_csv(data, name):\n",
    "    path = 'datasheets/' + name\n",
    "    with open(path, \"w\", newline='') as csv_file:\n",
    "            writer = csv.writer(csv_file, delimiter=',')\n",
    "            for line in data:\n",
    "                writer.writerow(line)"
   ]
  },
  {
   "cell_type": "code",
   "execution_count": 39,
   "metadata": {},
   "outputs": [
    {
     "name": "stdout",
     "output_type": "stream",
     "text": [
      "https://manifesto-project.wzb.eu/tools/api_list_metadata_versions?api_key=5bc549b3a55fdfe3f9ed7747c437f3e0\n"
     ]
    },
    {
     "data": {
      "text/plain": [
       "{'versions': ['2015-1',\n",
       "  '20150603140744',\n",
       "  '20150603144655',\n",
       "  '2015-2',\n",
       "  '20150619183523',\n",
       "  '20150708095326',\n",
       "  '20150708102056',\n",
       "  '2015-3',\n",
       "  '20150716220651',\n",
       "  '20150727144348',\n",
       "  '20150914183516',\n",
       "  '2015-4',\n",
       "  '2015-5',\n",
       "  '20151207125518',\n",
       "  '20160205170254',\n",
       "  '20160205171117',\n",
       "  '20160205184152',\n",
       "  '2016-1',\n",
       "  '2016-2',\n",
       "  '20160520191208',\n",
       "  '20160524112135',\n",
       "  '2016-3',\n",
       "  '20160817112523',\n",
       "  '20160817115608',\n",
       "  '20160823133322',\n",
       "  '2016-4',\n",
       "  '2016-5',\n",
       "  '20161128161012',\n",
       "  '2016-6',\n",
       "  '20170720161359',\n",
       "  '2017-1',\n",
       "  '20170815135004',\n",
       "  '20171211135550',\n",
       "  '2017-2']}"
      ]
     },
     "execution_count": 39,
     "metadata": {},
     "output_type": "execute_result"
    }
   ],
   "source": [
    "api_request('api_list_metadata_versions')"
   ]
  },
  {
   "cell_type": "code",
   "execution_count": 32,
   "metadata": {
    "collapsed": true
   },
   "outputs": [
    {
     "name": "stdout",
     "output_type": "stream",
     "text": [
      "https://manifesto-project.wzb.eu/tools/api_list_core_versions?api_key=5bc549b3a55fdfe3f9ed7747c437f3e0&key=455&datg\n"
     ]
    },
    {
     "data": {
      "text/plain": [
       "{'datasets': [{'id': 'MPDS2012a',\n",
       "   'name': 'Manifesto Project Dataset (version 2012a)'},\n",
       "  {'id': 'MPDS2012b', 'name': 'Manifesto Project Dataset (version 2012b)'},\n",
       "  {'id': 'MPDS2013a', 'name': 'Manifesto Project Dataset (version 2013a)'},\n",
       "  {'id': 'MPDS2013b', 'name': 'Manifesto Project Dataset (version 2013b)'},\n",
       "  {'id': 'MPDS2014a', 'name': 'Manifesto Project Dataset (version 2014a)'},\n",
       "  {'id': 'MPDS2014b', 'name': 'Manifesto Project Dataset (version 2014b)'},\n",
       "  {'id': 'MPDS2015a', 'name': 'Manifesto Project Dataset (version 2015a)'},\n",
       "  {'id': 'MPDS2016a', 'name': 'Manifesto Project Dataset (version 2016a)'},\n",
       "  {'id': 'MPDS2016b', 'name': 'Manifesto Project Dataset (version 2016b)'},\n",
       "  {'id': 'MPDS2017a', 'name': 'Manifesto Project Dataset (version 2017a)'},\n",
       "  {'id': 'MPDS2017b', 'name': 'Manifesto Project Dataset (version 2017b)'}]}"
      ]
     },
     "execution_count": 32,
     "metadata": {},
     "output_type": "execute_result"
    }
   ],
   "source": [
    "api_request('api_list_core_versions')"
   ]
  },
  {
   "cell_type": "code",
   "execution_count": 46,
   "metadata": {},
   "outputs": [
    {
     "name": "stdout",
     "output_type": "stream",
     "text": [
      "https://manifesto-project.wzb.eu/tools/api_metadata?api_key=5bc549b3a55fdfe3f9ed7747c437f3e0&keys[]=62320_199706&version=2015-1\n"
     ]
    },
    {
     "data": {
      "text/plain": [
       "{'items': [{'party_id': 62320,\n",
       "   'election_date': '199706',\n",
       "   'language': 'NA',\n",
       "   'has_eu_code': 'FALSE',\n",
       "   'is_primary_doc': 'TRUE',\n",
       "   'may_contradict_core_dataset': 'FALSE',\n",
       "   'manifesto_id': '62320_1997',\n",
       "   'md5sum_text': '29c03f11b740638aaae98be8ef60896d',\n",
       "   'url_original': None,\n",
       "   'md5sum_original': None,\n",
       "   'annotations': False}],\n",
       " 'missing_items': []}"
      ]
     },
     "execution_count": 46,
     "metadata": {},
     "output_type": "execute_result"
    }
   ],
   "source": [
    "api_request('api_metadata', 'keys[]=62320_199706', 'version=2015-1')"
   ]
  },
  {
   "cell_type": "code",
   "execution_count": 47,
   "metadata": {
    "collapsed": true
   },
   "outputs": [
    {
     "name": "stdout",
     "output_type": "stream",
     "text": [
      "https://manifesto-project.wzb.eu/tools/api_texts_and_annotations?api_key=5bc549b3a55fdfe3f9ed7747c437f3e0&keys=62320_1997&version=2015-1\n"
     ]
    },
    {
     "ename": "JSONDecodeError",
     "evalue": "Expecting value: line 1 column 1 (char 0)",
     "output_type": "error",
     "traceback": [
      "\u001b[0;31m---------------------------------------------------------------------------\u001b[0m",
      "\u001b[0;31mJSONDecodeError\u001b[0m                           Traceback (most recent call last)",
      "\u001b[0;32m<ipython-input-47-2de2e4185de3>\u001b[0m in \u001b[0;36m<module>\u001b[0;34m()\u001b[0m\n\u001b[0;32m----> 1\u001b[0;31m \u001b[0mapi_request\u001b[0m\u001b[0;34m(\u001b[0m\u001b[0;34m'api_texts_and_annotations'\u001b[0m\u001b[0;34m,\u001b[0m \u001b[0;34m'keys=62320_1997'\u001b[0m\u001b[0;34m,\u001b[0m \u001b[0;34m'version=2015-1'\u001b[0m\u001b[0;34m)\u001b[0m\u001b[0;34m\u001b[0m\u001b[0m\n\u001b[0m",
      "\u001b[0;32m<ipython-input-9-f43cadf7b1b1>\u001b[0m in \u001b[0;36mapi_request\u001b[0;34m(api_method, *params)\u001b[0m\n\u001b[1;32m      6\u001b[0m     \u001b[0mrequest_url\u001b[0m \u001b[0;34m=\u001b[0m \u001b[0mapi\u001b[0m\u001b[0;34m[\u001b[0m\u001b[0;34m'gateway'\u001b[0m\u001b[0;34m]\u001b[0m \u001b[0;34m+\u001b[0m \u001b[0mapi_method\u001b[0m \u001b[0;34m+\u001b[0m \u001b[0mapi\u001b[0m\u001b[0;34m[\u001b[0m\u001b[0;34m'key'\u001b[0m\u001b[0;34m]\u001b[0m \u001b[0;34m+\u001b[0m \u001b[0mparameters\u001b[0m\u001b[0;34m\u001b[0m\u001b[0m\n\u001b[1;32m      7\u001b[0m     \u001b[0mprint\u001b[0m\u001b[0;34m(\u001b[0m\u001b[0mrequest_url\u001b[0m\u001b[0;34m)\u001b[0m\u001b[0;34m\u001b[0m\u001b[0m\n\u001b[0;32m----> 8\u001b[0;31m     \u001b[0;32mreturn\u001b[0m \u001b[0mjson\u001b[0m\u001b[0;34m.\u001b[0m\u001b[0mloads\u001b[0m\u001b[0;34m(\u001b[0m\u001b[0mrequests\u001b[0m\u001b[0;34m.\u001b[0m\u001b[0mget\u001b[0m\u001b[0;34m(\u001b[0m\u001b[0mrequest_url\u001b[0m\u001b[0;34m)\u001b[0m\u001b[0;34m.\u001b[0m\u001b[0mtext\u001b[0m\u001b[0;34m)\u001b[0m\u001b[0;34m\u001b[0m\u001b[0m\n\u001b[0m",
      "\u001b[0;32m/Library/Frameworks/Python.framework/Versions/3.6/lib/python3.6/json/__init__.py\u001b[0m in \u001b[0;36mloads\u001b[0;34m(s, encoding, cls, object_hook, parse_float, parse_int, parse_constant, object_pairs_hook, **kw)\u001b[0m\n\u001b[1;32m    352\u001b[0m             \u001b[0mparse_int\u001b[0m \u001b[0;32mis\u001b[0m \u001b[0;32mNone\u001b[0m \u001b[0;32mand\u001b[0m \u001b[0mparse_float\u001b[0m \u001b[0;32mis\u001b[0m \u001b[0;32mNone\u001b[0m \u001b[0;32mand\u001b[0m\u001b[0;34m\u001b[0m\u001b[0m\n\u001b[1;32m    353\u001b[0m             parse_constant is None and object_pairs_hook is None and not kw):\n\u001b[0;32m--> 354\u001b[0;31m         \u001b[0;32mreturn\u001b[0m \u001b[0m_default_decoder\u001b[0m\u001b[0;34m.\u001b[0m\u001b[0mdecode\u001b[0m\u001b[0;34m(\u001b[0m\u001b[0ms\u001b[0m\u001b[0;34m)\u001b[0m\u001b[0;34m\u001b[0m\u001b[0m\n\u001b[0m\u001b[1;32m    355\u001b[0m     \u001b[0;32mif\u001b[0m \u001b[0mcls\u001b[0m \u001b[0;32mis\u001b[0m \u001b[0;32mNone\u001b[0m\u001b[0;34m:\u001b[0m\u001b[0;34m\u001b[0m\u001b[0m\n\u001b[1;32m    356\u001b[0m         \u001b[0mcls\u001b[0m \u001b[0;34m=\u001b[0m \u001b[0mJSONDecoder\u001b[0m\u001b[0;34m\u001b[0m\u001b[0m\n",
      "\u001b[0;32m/Library/Frameworks/Python.framework/Versions/3.6/lib/python3.6/json/decoder.py\u001b[0m in \u001b[0;36mdecode\u001b[0;34m(self, s, _w)\u001b[0m\n\u001b[1;32m    337\u001b[0m \u001b[0;34m\u001b[0m\u001b[0m\n\u001b[1;32m    338\u001b[0m         \"\"\"\n\u001b[0;32m--> 339\u001b[0;31m         \u001b[0mobj\u001b[0m\u001b[0;34m,\u001b[0m \u001b[0mend\u001b[0m \u001b[0;34m=\u001b[0m \u001b[0mself\u001b[0m\u001b[0;34m.\u001b[0m\u001b[0mraw_decode\u001b[0m\u001b[0;34m(\u001b[0m\u001b[0ms\u001b[0m\u001b[0;34m,\u001b[0m \u001b[0midx\u001b[0m\u001b[0;34m=\u001b[0m\u001b[0m_w\u001b[0m\u001b[0;34m(\u001b[0m\u001b[0ms\u001b[0m\u001b[0;34m,\u001b[0m \u001b[0;36m0\u001b[0m\u001b[0;34m)\u001b[0m\u001b[0;34m.\u001b[0m\u001b[0mend\u001b[0m\u001b[0;34m(\u001b[0m\u001b[0;34m)\u001b[0m\u001b[0;34m)\u001b[0m\u001b[0;34m\u001b[0m\u001b[0m\n\u001b[0m\u001b[1;32m    340\u001b[0m         \u001b[0mend\u001b[0m \u001b[0;34m=\u001b[0m \u001b[0m_w\u001b[0m\u001b[0;34m(\u001b[0m\u001b[0ms\u001b[0m\u001b[0;34m,\u001b[0m \u001b[0mend\u001b[0m\u001b[0;34m)\u001b[0m\u001b[0;34m.\u001b[0m\u001b[0mend\u001b[0m\u001b[0;34m(\u001b[0m\u001b[0;34m)\u001b[0m\u001b[0;34m\u001b[0m\u001b[0m\n\u001b[1;32m    341\u001b[0m         \u001b[0;32mif\u001b[0m \u001b[0mend\u001b[0m \u001b[0;34m!=\u001b[0m \u001b[0mlen\u001b[0m\u001b[0;34m(\u001b[0m\u001b[0ms\u001b[0m\u001b[0;34m)\u001b[0m\u001b[0;34m:\u001b[0m\u001b[0;34m\u001b[0m\u001b[0m\n",
      "\u001b[0;32m/Library/Frameworks/Python.framework/Versions/3.6/lib/python3.6/json/decoder.py\u001b[0m in \u001b[0;36mraw_decode\u001b[0;34m(self, s, idx)\u001b[0m\n\u001b[1;32m    355\u001b[0m             \u001b[0mobj\u001b[0m\u001b[0;34m,\u001b[0m \u001b[0mend\u001b[0m \u001b[0;34m=\u001b[0m \u001b[0mself\u001b[0m\u001b[0;34m.\u001b[0m\u001b[0mscan_once\u001b[0m\u001b[0;34m(\u001b[0m\u001b[0ms\u001b[0m\u001b[0;34m,\u001b[0m \u001b[0midx\u001b[0m\u001b[0;34m)\u001b[0m\u001b[0;34m\u001b[0m\u001b[0m\n\u001b[1;32m    356\u001b[0m         \u001b[0;32mexcept\u001b[0m \u001b[0mStopIteration\u001b[0m \u001b[0;32mas\u001b[0m \u001b[0merr\u001b[0m\u001b[0;34m:\u001b[0m\u001b[0;34m\u001b[0m\u001b[0m\n\u001b[0;32m--> 357\u001b[0;31m             \u001b[0;32mraise\u001b[0m \u001b[0mJSONDecodeError\u001b[0m\u001b[0;34m(\u001b[0m\u001b[0;34m\"Expecting value\"\u001b[0m\u001b[0;34m,\u001b[0m \u001b[0ms\u001b[0m\u001b[0;34m,\u001b[0m \u001b[0merr\u001b[0m\u001b[0;34m.\u001b[0m\u001b[0mvalue\u001b[0m\u001b[0;34m)\u001b[0m \u001b[0;32mfrom\u001b[0m \u001b[0;32mNone\u001b[0m\u001b[0;34m\u001b[0m\u001b[0m\n\u001b[0m\u001b[1;32m    358\u001b[0m         \u001b[0;32mreturn\u001b[0m \u001b[0mobj\u001b[0m\u001b[0;34m,\u001b[0m \u001b[0mend\u001b[0m\u001b[0;34m\u001b[0m\u001b[0m\n",
      "\u001b[0;31mJSONDecodeError\u001b[0m: Expecting value: line 1 column 1 (char 0)"
     ]
    }
   ],
   "source": [
    "api_request('api_texts_and_annotations', 'keys=62320_1997', 'version=2015-1')"
   ]
  },
  {
   "cell_type": "code",
   "execution_count": 37,
   "metadata": {},
   "outputs": [
    {
     "name": "stdout",
     "output_type": "stream",
     "text": [
      "https://manifesto-project.wzb.eu/tools/api_get_core?api_key=5bc549b3a55fdfe3f9ed7747c437f3e0&key=MPDS2017b\n"
     ]
    }
   ],
   "source": [
    "write_csv(api_request('api_get_core', 'key=MPDS2017b'), 'core.csv')"
   ]
  }
 ],
 "metadata": {
  "kernelspec": {
   "display_name": "Python 3",
   "language": "python",
   "name": "python3"
  },
  "language_info": {
   "codemirror_mode": {
    "name": "ipython",
    "version": 3
   },
   "file_extension": ".py",
   "mimetype": "text/x-python",
   "name": "python",
   "nbconvert_exporter": "python",
   "pygments_lexer": "ipython3",
   "version": "3.6.4"
  }
 },
 "nbformat": 4,
 "nbformat_minor": 2
}

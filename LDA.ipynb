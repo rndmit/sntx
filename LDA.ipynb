{
 "cells": [
  {
   "cell_type": "code",
   "execution_count": 135,
   "metadata": {},
   "outputs": [],
   "source": [
    "import nltk\n",
    "import re\n",
    "import numpy as np\n",
    "import pandas as pd\n",
    "from pprint import pprint\n",
    "\n",
    "# Gensim\n",
    "import gensim\n",
    "import gensim.corpora as corpora\n",
    "from gensim.utils import simple_preprocess\n",
    "from gensim.models import CoherenceModel\n",
    "\n",
    "# spacy for lemmatization\n",
    "import spacy\n",
    "\n",
    "# Plotting tools\n",
    "import pyLDAvis\n",
    "import pyLDAvis.gensim  # don't skip this\n",
    "import matplotlib.pyplot as plt\n",
    "%matplotlib inline\n",
    "\n",
    "from gensim.models import Phrases\n",
    "from gensim.models.phrases import Phraser\n",
    "from nltk.corpus import stopwords"
   ]
  },
  {
   "cell_type": "code",
   "execution_count": 136,
   "metadata": {},
   "outputs": [],
   "source": [
    "df = pd.read_csv('datasheets/corpus_prepared.csv', sep='\\t')\n",
    "del df['Unnamed: 0']"
   ]
  },
  {
   "cell_type": "code",
   "execution_count": 137,
   "metadata": {},
   "outputs": [],
   "source": [
    "texts = [list(map(lambda x: x.strip().strip('\"').strip(\"'\"), t.lstrip(\"['\").rstrip(\"]\").split(r\"',\"))) for t in df['text']]"
   ]
  },
  {
   "cell_type": "code",
   "execution_count": 138,
   "metadata": {},
   "outputs": [
    {
     "name": "stdout",
     "output_type": "stream",
     "text": [
      "[[(0, 1), (1, 1), (2, 1), (3, 1), (4, 1), (5, 1), (6, 1)], [(7, 1), (8, 1), (9, 1), (10, 1), (11, 1), (12, 1), (13, 1), (14, 1)], [(15, 1), (16, 1), (17, 1), (18, 1), (19, 1), (20, 1), (21, 1)], [(1, 1), (6, 1), (17, 1), (22, 1)], [(4, 1), (8, 1), (23, 1), (24, 1), (25, 1), (26, 1), (27, 1)], [(8, 1), (28, 1), (29, 1), (30, 1), (31, 1), (32, 1), (33, 1), (34, 1), (35, 1), (36, 1), (37, 1)], [(8, 1), (37, 2), (38, 2), (39, 1), (40, 1), (41, 1), (42, 1), (43, 1), (44, 1), (45, 1), (46, 1), (47, 1), (48, 1), (49, 1)], [(50, 1), (51, 1), (52, 1), (53, 1), (54, 1)], [(37, 1), (38, 1), (54, 1), (55, 1), (56, 1), (57, 1), (58, 1), (59, 1)], [(28, 1), (37, 1), (60, 1), (61, 1), (62, 1), (63, 1), (64, 1), (65, 1)]]\n"
     ]
    },
    {
     "data": {
      "text/plain": [
       "[[('aim', 1),\n",
       "  ('britain', 1),\n",
       "  ('foremost', 1),\n",
       "  ('learn', 1),\n",
       "  ('make', 1),\n",
       "  ('society', 1),\n",
       "  ('world', 1)]]"
      ]
     },
     "execution_count": 138,
     "metadata": {},
     "output_type": "execute_result"
    }
   ],
   "source": [
    "# Create Dictionary\n",
    "id2word = corpora.Dictionary(list(texts))\n",
    "\n",
    "# Create Corpus\n",
    "#texts = df['text']\n",
    "\n",
    "# Term Document Frequency\n",
    "corpus = [id2word.doc2bow(text) for text in texts]\n",
    "\n",
    "# View\n",
    "print(corpus[:10])\n",
    "[[(id2word[id], freq) for id, freq in cp] for cp in corpus[:1]]"
   ]
  },
  {
   "cell_type": "code",
   "execution_count": 139,
   "metadata": {},
   "outputs": [
    {
     "name": "stderr",
     "output_type": "stream",
     "text": [
      "/Users/yuser/anaconda3/lib/python3.6/site-packages/gensim/models/ldamodel.py:582: RuntimeWarning: overflow encountered in exp2\n",
      "  perwordbound, np.exp2(-perwordbound), len(chunk), corpus_words\n"
     ]
    }
   ],
   "source": [
    "lda_model = gensim.models.ldamodel.LdaModel(corpus=corpus, \n",
    "                                            id2word=id2word, \n",
    "                                            num_topics=5, \n",
    "                                            update_every=1, \n",
    "                                            chunksize=1, \n",
    "                                            passes=1)"
   ]
  },
  {
   "cell_type": "code",
   "execution_count": 143,
   "metadata": {},
   "outputs": [
    {
     "name": "stdout",
     "output_type": "stream",
     "text": [
      "[(0,\n",
      "  'nan*\"brunt\" + nan*\"trevor\" + nan*\"veterinary\" + nan*\"cultivation\" + '\n",
      "  'nan*\"hormone\" + nan*\"slaughterman\" + nan*\"contravention\" + nan*\"hygiene\" + '\n",
      "  'nan*\"unviable\" + nan*\"mutton\"'),\n",
      " (1,\n",
      "  'nan*\"brunt\" + nan*\"trevor\" + nan*\"veterinary\" + nan*\"cultivation\" + '\n",
      "  'nan*\"hormone\" + nan*\"slaughterman\" + nan*\"contravention\" + nan*\"hygiene\" + '\n",
      "  'nan*\"unviable\" + nan*\"mutton\"'),\n",
      " (2,\n",
      "  'nan*\"brunt\" + nan*\"trevor\" + nan*\"veterinary\" + nan*\"cultivation\" + '\n",
      "  'nan*\"hormone\" + nan*\"slaughterman\" + nan*\"contravention\" + nan*\"hygiene\" + '\n",
      "  'nan*\"unviable\" + nan*\"mutton\"'),\n",
      " (3,\n",
      "  'nan*\"brunt\" + nan*\"trevor\" + nan*\"veterinary\" + nan*\"cultivation\" + '\n",
      "  'nan*\"hormone\" + nan*\"slaughterman\" + nan*\"contravention\" + nan*\"hygiene\" + '\n",
      "  'nan*\"unviable\" + nan*\"mutton\"'),\n",
      " (4,\n",
      "  'nan*\"brunt\" + nan*\"trevor\" + nan*\"veterinary\" + nan*\"cultivation\" + '\n",
      "  'nan*\"hormone\" + nan*\"slaughterman\" + nan*\"contravention\" + nan*\"hygiene\" + '\n",
      "  'nan*\"unviable\" + nan*\"mutton\"')]\n"
     ]
    }
   ],
   "source": [
    "pprint(lda_model.print_topics())\n",
    "doc_lda = lda_model[corpus]"
   ]
  }
 ],
 "metadata": {
  "kernelspec": {
   "display_name": "Python 3",
   "language": "python",
   "name": "python3"
  },
  "language_info": {
   "codemirror_mode": {
    "name": "ipython",
    "version": 3
   },
   "file_extension": ".py",
   "mimetype": "text/x-python",
   "name": "python",
   "nbconvert_exporter": "python",
   "pygments_lexer": "ipython3",
   "version": "3.6.5"
  }
 },
 "nbformat": 4,
 "nbformat_minor": 2
}

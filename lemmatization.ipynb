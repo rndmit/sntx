{
 "cells": [
  {
   "cell_type": "code",
   "execution_count": 2,
   "metadata": {},
   "outputs": [
    {
     "name": "stdout",
     "output_type": "stream",
     "text": [
      "['go', 'big', 'apple', 'and', 'orange', 'be', 'similar', 'boot', 'big', 'and', 'hippo']\n"
     ]
    }
   ],
   "source": [
    "import spacy \n",
    "list = []\n",
    "array = ['goes', 'bigger', 'Apples', 'and', 'oranges', 'are', 'similar','Boots', 'bigger', 'and', 'hippos']\n",
    "nlp = spacy.load('en')\n",
    "for i in range(len(array)):\n",
    "    doc = nlp(array[i])\n",
    "    for token in doc:\n",
    "        list.append(token.lemma_)\n",
    "print(list)"
   ]
  },
  {
   "cell_type": "code",
   "execution_count": null,
   "metadata": {},
   "outputs": [],
   "source": []
  }
 ],
 "metadata": {
  "kernelspec": {
   "display_name": "Python 3",
   "language": "python",
   "name": "python3"
  },
  "language_info": {
   "codemirror_mode": {
    "name": "ipython",
    "version": 3
   },
   "file_extension": ".py",
   "mimetype": "text/x-python",
   "name": "python",
   "nbconvert_exporter": "python",
   "pygments_lexer": "ipython3",
   "version": "3.6.5"
  }
 },
 "nbformat": 4,
 "nbformat_minor": 2
}
